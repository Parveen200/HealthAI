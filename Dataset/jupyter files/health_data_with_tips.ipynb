{
  "nbformat": 4,
  "nbformat_minor": 0,
  "metadata": {
    "colab": {
      "provenance": []
    },
    "kernelspec": {
      "name": "python3",
      "display_name": "Python 3"
    },
    "language_info": {
      "name": "python"
    }
  },
  "cells": [
    {
      "cell_type": "code",
      "execution_count": 4,
      "metadata": {
        "id": "hoeqhRXObx-F"
      },
      "outputs": [],
      "source": []
    },
    {
      "cell_type": "code",
      "source": [
        "import pandas as pd\n",
        "import numpy as np\n",
        "from sklearn.model_selection import train_test_split\n",
        "from sklearn.preprocessing import LabelEncoder, StandardScaler\n",
        "from sklearn.ensemble import RandomForestClassifier\n",
        "from sklearn.metrics import classification_report, accuracy_score\n",
        "from sklearn.pipeline import Pipeline\n",
        "from sklearn.compose import ColumnTransformer\n",
        "from sklearn.preprocessing import OneHotEncoder\n",
        "\n",
        "# Step 1: Load the dataset\n",
        "df = pd.read_csv('health_data_with_tips.csv')\n",
        "\n",
        "# Step 2: Preprocessing\n",
        "# Convert categorical columns to numeric using Label Encoding\n",
        "label_enc = LabelEncoder()\n",
        "\n",
        "df['activity_level'] = label_enc.fit_transform(df['activity_level'])\n",
        "df['diet_quality'] = label_enc.fit_transform(df['diet_quality'])\n",
        "df['smoking_status'] = label_enc.fit_transform(df['smoking_status'])\n",
        "df['alcohol_consumption'] = label_enc.fit_transform(df['alcohol_consumption'])\n",
        "df['stress_level'] = label_enc.fit_transform(df['stress_level'])\n",
        "\n",
        "# Tips as target variable\n",
        "df['target'] = label_enc.fit_transform(df['health_tips'])\n",
        "\n",
        "# Step 3: Define features and target\n",
        "X = df.drop(columns=['health_tips', 'target'])\n",
        "y = df['target']\n",
        "\n",
        "# Split the data into training and testing sets\n",
        "X_train, X_test, y_train, y_test = train_test_split(X, y, test_size=0.3, random_state=42)\n",
        "\n",
        "# Step 4: Feature Scaling\n",
        "scaler = StandardScaler()\n",
        "X_train = scaler.fit_transform(X_train)\n",
        "X_test = scaler.transform(X_test)\n",
        "\n",
        "# Step 5: Train the model\n",
        "model = RandomForestClassifier(n_estimators=100, random_state=42)\n",
        "model.fit(X_train, y_train)\n",
        "\n",
        "# Step 6: Evaluate the model\n",
        "y_pred = model.predict(X_test)\n",
        "print(f'Accuracy: {accuracy_score(y_test, y_pred)}')\n",
        "print(classification_report(y_test, y_pred, target_names=label_enc.classes_))\n",
        "\n",
        "# Step 7: Save the model for future use\n",
        "import joblib\n",
        "joblib.dump(model, 'health_tips_predictor.pkl')\n",
        "joblib.dump(label_enc, 'label_encoder.pkl')\n",
        "joblib.dump(scaler, 'scaler.pkl')\n"
      ],
      "metadata": {
        "id": "6gyf2dCPbzV5",
        "outputId": "7664de8b-9b48-45e7-b204-9a814101c2aa",
        "colab": {
          "base_uri": "https://localhost:8080/"
        }
      },
      "execution_count": 4,
      "outputs": [
        {
          "output_type": "stream",
          "name": "stdout",
          "text": [
            "Accuracy: 1.0\n",
            "                                                                                                                                                                                                                                                                                                       precision    recall  f1-score   support\n",
            "\n",
            "                                                                                                                                                                                                                                            Consider quitting smoking to improve your overall health.       1.00      1.00      1.00       145\n",
            "                                                                                                                                                                                   Consider quitting smoking to improve your overall health. | Ensure you get at least 7-8 hours of sleep each night.       1.00      1.00      1.00       154\n",
            "                                                                                                                      Consider quitting smoking to improve your overall health. | Ensure you get at least 7-8 hours of sleep each night. | Improve your diet by including more fruits and vegetables.       1.00      1.00      1.00        96\n",
            "                                                                                                                   Consider quitting smoking to improve your overall health. | Ensure you get at least 7-8 hours of sleep each night. | Increase your physical activity to at least 30 minutes a day.       1.00      1.00      1.00        83\n",
            "                                                      Consider quitting smoking to improve your overall health. | Ensure you get at least 7-8 hours of sleep each night. | Increase your physical activity to at least 30 minutes a day. | Improve your diet by including more fruits and vegetables.       1.00      1.00      1.00        45\n",
            "                                                                                                                                                                               Consider quitting smoking to improve your overall health. | Improve your diet by including more fruits and vegetables.       1.00      1.00      1.00        90\n",
            "                                                                                                                                                                            Consider quitting smoking to improve your overall health. | Increase your physical activity to at least 30 minutes a day.       1.00      1.00      1.00        78\n",
            "                                                                                                               Consider quitting smoking to improve your overall health. | Increase your physical activity to at least 30 minutes a day. | Improve your diet by including more fruits and vegetables.       1.00      1.00      1.00        38\n",
            "                                                                                                                                                                                      Consider quitting smoking to improve your overall health. | Limit alcohol consumption to maintain liver health.       1.00      1.00      1.00       161\n",
            "                                                                                                                             Consider quitting smoking to improve your overall health. | Limit alcohol consumption to maintain liver health. | Ensure you get at least 7-8 hours of sleep each night.       1.00      1.00      1.00       145\n",
            "                                                                Consider quitting smoking to improve your overall health. | Limit alcohol consumption to maintain liver health. | Ensure you get at least 7-8 hours of sleep each night. | Improve your diet by including more fruits and vegetables.       1.00      1.00      1.00        95\n",
            "                                                             Consider quitting smoking to improve your overall health. | Limit alcohol consumption to maintain liver health. | Ensure you get at least 7-8 hours of sleep each night. | Increase your physical activity to at least 30 minutes a day.       1.00      1.00      1.00        83\n",
            "Consider quitting smoking to improve your overall health. | Limit alcohol consumption to maintain liver health. | Ensure you get at least 7-8 hours of sleep each night. | Increase your physical activity to at least 30 minutes a day. | Improve your diet by including more fruits and vegetables.       1.00      1.00      1.00        48\n",
            "                                                                                                                         Consider quitting smoking to improve your overall health. | Limit alcohol consumption to maintain liver health. | Improve your diet by including more fruits and vegetables.       1.00      1.00      1.00        95\n",
            "                                                                                                                      Consider quitting smoking to improve your overall health. | Limit alcohol consumption to maintain liver health. | Increase your physical activity to at least 30 minutes a day.       1.00      1.00      1.00        85\n",
            "                                                         Consider quitting smoking to improve your overall health. | Limit alcohol consumption to maintain liver health. | Increase your physical activity to at least 30 minutes a day. | Improve your diet by including more fruits and vegetables.       1.00      1.00      1.00        38\n",
            "                                                                                                                                                                                                                                               Ensure you get at least 7-8 hours of sleep each night.       1.00      1.00      1.00       186\n",
            "                                                                                                                                                                                  Ensure you get at least 7-8 hours of sleep each night. | Improve your diet by including more fruits and vegetables.       1.00      1.00      1.00        86\n",
            "                                                                                                                                                                               Ensure you get at least 7-8 hours of sleep each night. | Increase your physical activity to at least 30 minutes a day.       1.00      1.00      1.00        69\n",
            "                                                                                                                  Ensure you get at least 7-8 hours of sleep each night. | Increase your physical activity to at least 30 minutes a day. | Improve your diet by including more fruits and vegetables.       1.00      1.00      1.00        46\n",
            "                                                                                                                                                                                                                                           Improve your diet by including more fruits and vegetables.       1.00      1.00      1.00        81\n",
            "                                                                                                                                                                                                                                        Increase your physical activity to at least 30 minutes a day.       1.00      1.00      1.00        95\n",
            "                                                                                                                                                                           Increase your physical activity to at least 30 minutes a day. | Improve your diet by including more fruits and vegetables.       1.00      1.00      1.00        46\n",
            "                                                                                                                                                                                                                                                  Limit alcohol consumption to maintain liver health.       1.00      1.00      1.00       180\n",
            "                                                                                                                                                                                         Limit alcohol consumption to maintain liver health. | Ensure you get at least 7-8 hours of sleep each night.       1.00      1.00      1.00       165\n",
            "                                                                                                                            Limit alcohol consumption to maintain liver health. | Ensure you get at least 7-8 hours of sleep each night. | Improve your diet by including more fruits and vegetables.       1.00      1.00      1.00        85\n",
            "                                                                                                                         Limit alcohol consumption to maintain liver health. | Ensure you get at least 7-8 hours of sleep each night. | Increase your physical activity to at least 30 minutes a day.       1.00      1.00      1.00        85\n",
            "                                                            Limit alcohol consumption to maintain liver health. | Ensure you get at least 7-8 hours of sleep each night. | Increase your physical activity to at least 30 minutes a day. | Improve your diet by including more fruits and vegetables.       1.00      1.00      1.00        34\n",
            "                                                                                                                                                                                     Limit alcohol consumption to maintain liver health. | Improve your diet by including more fruits and vegetables.       1.00      1.00      1.00        76\n",
            "                                                                                                                                                                                  Limit alcohol consumption to maintain liver health. | Increase your physical activity to at least 30 minutes a day.       1.00      1.00      1.00        73\n",
            "                                                                                                                     Limit alcohol consumption to maintain liver health. | Increase your physical activity to at least 30 minutes a day. | Improve your diet by including more fruits and vegetables.       1.00      1.00      1.00        42\n",
            "                                                                                                                                                                                                                              Your health parameters look good. Keep maintaining a healthy lifestyle.       1.00      1.00      1.00       172\n",
            "\n",
            "                                                                                                                                                                                                                                                                                             accuracy                           1.00      3000\n",
            "                                                                                                                                                                                                                                                                                            macro avg       1.00      1.00      1.00      3000\n",
            "                                                                                                                                                                                                                                                                                         weighted avg       1.00      1.00      1.00      3000\n",
            "\n"
          ]
        },
        {
          "output_type": "execute_result",
          "data": {
            "text/plain": [
              "['scaler.pkl']"
            ]
          },
          "metadata": {},
          "execution_count": 4
        }
      ]
    },
    {
      "cell_type": "code",
      "source": [],
      "metadata": {
        "id": "acz0ERlIchMp"
      },
      "execution_count": null,
      "outputs": []
    }
  ]
}